{
 "cells": [
  {
   "cell_type": "code",
   "execution_count": 1,
   "metadata": {},
   "outputs": [],
   "source": [
    "data = range(4)"
   ]
  },
  {
   "cell_type": "code",
   "execution_count": 2,
   "metadata": {},
   "outputs": [
    {
     "data": {
      "text/plain": [
       "range(0, 4)"
      ]
     },
     "execution_count": 2,
     "metadata": {},
     "output_type": "execute_result"
    }
   ],
   "source": [
    "data"
   ]
  },
  {
   "cell_type": "code",
   "execution_count": 3,
   "metadata": {},
   "outputs": [
    {
     "data": {
      "text/plain": [
       "[0, 1, 2, 3]"
      ]
     },
     "execution_count": 3,
     "metadata": {},
     "output_type": "execute_result"
    }
   ],
   "source": [
    "list(data)"
   ]
  },
  {
   "cell_type": "code",
   "execution_count": 11,
   "metadata": {},
   "outputs": [],
   "source": [
    "%matplotlib inline\n",
    "import pandas as pd\n",
    "import seaborn as sns\n",
    "import math\n",
    "import matplotlib.pyplot as plt\n",
    "import numpy as np\n",
    "import os\n",
    "import keyword\n",
    "import csv\n",
    "import sys\n",
    "import scipy\n",
    "import zipfile\n",
    "import datetime\n",
    "import random"
   ]
  },
  {
   "cell_type": "code",
   "execution_count": 10,
   "metadata": {},
   "outputs": [
    {
     "name": "stdout",
     "output_type": "stream",
     "text": [
      "Current Working Directory\n"
     ]
    }
   ],
   "source": [
    "current_directory = os.getcwd\n",
    "print(\"Current Working Directory\")"
   ]
  },
  {
   "cell_type": "code",
   "execution_count": 14,
   "metadata": {},
   "outputs": [],
   "source": [
    "CME = pd.read_csv('data/CME.csv')\n",
    "EQR = pd.read_csv('data/EQR.csv')\n",
    "FISV = pd.read_csv('data/FISV.csv')\n",
    "GE = pd.read_csv('data/GE.csv')\n",
    "LNC = pd.read_csv('data/LNC.csv')\n",
    "\n"
   ]
  },
  {
   "cell_type": "code",
   "execution_count": 19,
   "metadata": {},
   "outputs": [
    {
     "data": {
      "text/html": [
       "<div>\n",
       "<style scoped>\n",
       "    .dataframe tbody tr th:only-of-type {\n",
       "        vertical-align: middle;\n",
       "    }\n",
       "\n",
       "    .dataframe tbody tr th {\n",
       "        vertical-align: top;\n",
       "    }\n",
       "\n",
       "    .dataframe thead th {\n",
       "        text-align: right;\n",
       "    }\n",
       "</style>\n",
       "<table border=\"1\" class=\"dataframe\">\n",
       "  <thead>\n",
       "    <tr style=\"text-align: right;\">\n",
       "      <th></th>\n",
       "      <th>Date</th>\n",
       "      <th>High</th>\n",
       "      <th>Low</th>\n",
       "      <th>Open</th>\n",
       "      <th>Close</th>\n",
       "      <th>Volume</th>\n",
       "      <th>Adj Close</th>\n",
       "    </tr>\n",
       "  </thead>\n",
       "  <tbody>\n",
       "    <tr>\n",
       "      <th>0</th>\n",
       "      <td>2017-11-13</td>\n",
       "      <td>140.350006</td>\n",
       "      <td>137.509995</td>\n",
       "      <td>137.720001</td>\n",
       "      <td>140.149994</td>\n",
       "      <td>1142100.0</td>\n",
       "      <td>124.103569</td>\n",
       "    </tr>\n",
       "    <tr>\n",
       "      <th>1</th>\n",
       "      <td>2017-11-14</td>\n",
       "      <td>141.039993</td>\n",
       "      <td>138.929993</td>\n",
       "      <td>139.679993</td>\n",
       "      <td>140.199997</td>\n",
       "      <td>1267500.0</td>\n",
       "      <td>124.147797</td>\n",
       "    </tr>\n",
       "    <tr>\n",
       "      <th>2</th>\n",
       "      <td>2017-11-15</td>\n",
       "      <td>141.440002</td>\n",
       "      <td>139.509995</td>\n",
       "      <td>139.720001</td>\n",
       "      <td>139.669998</td>\n",
       "      <td>1017300.0</td>\n",
       "      <td>123.678535</td>\n",
       "    </tr>\n",
       "    <tr>\n",
       "      <th>3</th>\n",
       "      <td>2017-11-16</td>\n",
       "      <td>140.610001</td>\n",
       "      <td>139.259995</td>\n",
       "      <td>140.380005</td>\n",
       "      <td>140.089996</td>\n",
       "      <td>740800.0</td>\n",
       "      <td>124.050438</td>\n",
       "    </tr>\n",
       "    <tr>\n",
       "      <th>4</th>\n",
       "      <td>2017-11-17</td>\n",
       "      <td>140.130005</td>\n",
       "      <td>139.039993</td>\n",
       "      <td>139.570007</td>\n",
       "      <td>139.490005</td>\n",
       "      <td>924200.0</td>\n",
       "      <td>123.519112</td>\n",
       "    </tr>\n",
       "  </tbody>\n",
       "</table>\n",
       "</div>"
      ],
      "text/plain": [
       "        Date        High         Low        Open       Close     Volume  \\\n",
       "0 2017-11-13  140.350006  137.509995  137.720001  140.149994  1142100.0   \n",
       "1 2017-11-14  141.039993  138.929993  139.679993  140.199997  1267500.0   \n",
       "2 2017-11-15  141.440002  139.509995  139.720001  139.669998  1017300.0   \n",
       "3 2017-11-16  140.610001  139.259995  140.380005  140.089996   740800.0   \n",
       "4 2017-11-17  140.130005  139.039993  139.570007  139.490005   924200.0   \n",
       "\n",
       "    Adj Close  \n",
       "0  124.103569  \n",
       "1  124.147797  \n",
       "2  123.678535  \n",
       "3  124.050438  \n",
       "4  123.519112  "
      ]
     },
     "execution_count": 19,
     "metadata": {},
     "output_type": "execute_result"
    }
   ],
   "source": [
    "CME.head(5)"
   ]
  },
  {
   "cell_type": "code",
   "execution_count": 28,
   "metadata": {},
   "outputs": [],
   "source": [
    "firms = ['CME', 'EQR', 'FISV', 'GE', 'LNC']"
   ]
  },
  {
   "cell_type": "code",
   "execution_count": 30,
   "metadata": {},
   "outputs": [],
   "source": [
    "CME['Date'] = pd.to_datetime(CME['Date'])\n",
    "EQR['Date'] = pd.to_datetime(EQR['Date'])\n",
    "FISV['Date'] = pd.to_datetime(FISV['Date'])\n",
    "GE['Date'] = pd.to_datetime(GE['Date'])\n",
    "LNC['Date'] = pd.to_datetime(LNC['Date'])\n",
    "\n"
   ]
  },
  {
   "cell_type": "code",
   "execution_count": 29,
   "metadata": {},
   "outputs": [
    {
     "ename": "TypeError",
     "evalue": "string indices must be integers, not 'str'",
     "output_type": "error",
     "traceback": [
      "\u001b[0;31m---------------------------------------------------------------------------\u001b[0m",
      "\u001b[0;31mTypeError\u001b[0m                                 Traceback (most recent call last)",
      "\u001b[1;32m/Users/linhvoquang/Desktop/vo_midterm/vo_midterm/midterm.ipynb Cell 10\u001b[0m line \u001b[0;36m2\n\u001b[1;32m      <a href='vscode-notebook-cell:/Users/linhvoquang/Desktop/vo_midterm/vo_midterm/midterm.ipynb#X14sZmlsZQ%3D%3D?line=0'>1</a>\u001b[0m \u001b[39mfor\u001b[39;00m f \u001b[39min\u001b[39;00m firms:\n\u001b[0;32m----> <a href='vscode-notebook-cell:/Users/linhvoquang/Desktop/vo_midterm/vo_midterm/midterm.ipynb#X14sZmlsZQ%3D%3D?line=1'>2</a>\u001b[0m     f[\u001b[39m'\u001b[39m\u001b[39mDate\u001b[39m\u001b[39m'\u001b[39m] \u001b[39m=\u001b[39m pd\u001b[39m.\u001b[39mto_datetime(f[\u001b[39m'\u001b[39;49m\u001b[39mDate\u001b[39;49m\u001b[39m'\u001b[39;49m])\n",
      "\u001b[0;31mTypeError\u001b[0m: string indices must be integers, not 'str'"
     ]
    }
   ],
   "source": [
    "for f in firms:\n",
    "    f['Date'] = pd.to_datetime(f['Date'])\n"
   ]
  },
  {
   "cell_type": "code",
   "execution_count": 31,
   "metadata": {},
   "outputs": [
    {
     "data": {
      "text/html": [
       "<div>\n",
       "<style scoped>\n",
       "    .dataframe tbody tr th:only-of-type {\n",
       "        vertical-align: middle;\n",
       "    }\n",
       "\n",
       "    .dataframe tbody tr th {\n",
       "        vertical-align: top;\n",
       "    }\n",
       "\n",
       "    .dataframe thead th {\n",
       "        text-align: right;\n",
       "    }\n",
       "</style>\n",
       "<table border=\"1\" class=\"dataframe\">\n",
       "  <thead>\n",
       "    <tr style=\"text-align: right;\">\n",
       "      <th></th>\n",
       "      <th>Date</th>\n",
       "      <th>High</th>\n",
       "      <th>Low</th>\n",
       "      <th>Open</th>\n",
       "      <th>Close</th>\n",
       "      <th>Volume</th>\n",
       "      <th>Adj Close</th>\n",
       "    </tr>\n",
       "  </thead>\n",
       "  <tbody>\n",
       "    <tr>\n",
       "      <th>0</th>\n",
       "      <td>2017-11-13</td>\n",
       "      <td>140.350006</td>\n",
       "      <td>137.509995</td>\n",
       "      <td>137.720001</td>\n",
       "      <td>140.149994</td>\n",
       "      <td>1142100.0</td>\n",
       "      <td>124.103569</td>\n",
       "    </tr>\n",
       "    <tr>\n",
       "      <th>1</th>\n",
       "      <td>2017-11-14</td>\n",
       "      <td>141.039993</td>\n",
       "      <td>138.929993</td>\n",
       "      <td>139.679993</td>\n",
       "      <td>140.199997</td>\n",
       "      <td>1267500.0</td>\n",
       "      <td>124.147797</td>\n",
       "    </tr>\n",
       "    <tr>\n",
       "      <th>2</th>\n",
       "      <td>2017-11-15</td>\n",
       "      <td>141.440002</td>\n",
       "      <td>139.509995</td>\n",
       "      <td>139.720001</td>\n",
       "      <td>139.669998</td>\n",
       "      <td>1017300.0</td>\n",
       "      <td>123.678535</td>\n",
       "    </tr>\n",
       "    <tr>\n",
       "      <th>3</th>\n",
       "      <td>2017-11-16</td>\n",
       "      <td>140.610001</td>\n",
       "      <td>139.259995</td>\n",
       "      <td>140.380005</td>\n",
       "      <td>140.089996</td>\n",
       "      <td>740800.0</td>\n",
       "      <td>124.050438</td>\n",
       "    </tr>\n",
       "    <tr>\n",
       "      <th>4</th>\n",
       "      <td>2017-11-17</td>\n",
       "      <td>140.130005</td>\n",
       "      <td>139.039993</td>\n",
       "      <td>139.570007</td>\n",
       "      <td>139.490005</td>\n",
       "      <td>924200.0</td>\n",
       "      <td>123.519112</td>\n",
       "    </tr>\n",
       "  </tbody>\n",
       "</table>\n",
       "</div>"
      ],
      "text/plain": [
       "        Date        High         Low        Open       Close     Volume  \\\n",
       "0 2017-11-13  140.350006  137.509995  137.720001  140.149994  1142100.0   \n",
       "1 2017-11-14  141.039993  138.929993  139.679993  140.199997  1267500.0   \n",
       "2 2017-11-15  141.440002  139.509995  139.720001  139.669998  1017300.0   \n",
       "3 2017-11-16  140.610001  139.259995  140.380005  140.089996   740800.0   \n",
       "4 2017-11-17  140.130005  139.039993  139.570007  139.490005   924200.0   \n",
       "\n",
       "    Adj Close  \n",
       "0  124.103569  \n",
       "1  124.147797  \n",
       "2  123.678535  \n",
       "3  124.050438  \n",
       "4  123.519112  "
      ]
     },
     "execution_count": 31,
     "metadata": {},
     "output_type": "execute_result"
    }
   ],
   "source": [
    "CME.head()"
   ]
  },
  {
   "cell_type": "code",
   "execution_count": 39,
   "metadata": {},
   "outputs": [
    {
     "ename": "KeyError",
     "evalue": "'2017-11-13'",
     "output_type": "error",
     "traceback": [
      "\u001b[0;31m---------------------------------------------------------------------------\u001b[0m",
      "\u001b[0;31mKeyError\u001b[0m                                  Traceback (most recent call last)",
      "File \u001b[0;32m/Library/Frameworks/Python.framework/Versions/3.12/lib/python3.12/site-packages/pandas/core/indexes/base.py:3790\u001b[0m, in \u001b[0;36mIndex.get_loc\u001b[0;34m(self, key)\u001b[0m\n\u001b[1;32m   3789\u001b[0m \u001b[39mtry\u001b[39;00m:\n\u001b[0;32m-> 3790\u001b[0m     \u001b[39mreturn\u001b[39;00m \u001b[39mself\u001b[39;49m\u001b[39m.\u001b[39;49m_engine\u001b[39m.\u001b[39;49mget_loc(casted_key)\n\u001b[1;32m   3791\u001b[0m \u001b[39mexcept\u001b[39;00m \u001b[39mKeyError\u001b[39;00m \u001b[39mas\u001b[39;00m err:\n",
      "File \u001b[0;32mindex.pyx:152\u001b[0m, in \u001b[0;36mpandas._libs.index.IndexEngine.get_loc\u001b[0;34m()\u001b[0m\n",
      "File \u001b[0;32mindex.pyx:181\u001b[0m, in \u001b[0;36mpandas._libs.index.IndexEngine.get_loc\u001b[0;34m()\u001b[0m\n",
      "File \u001b[0;32mpandas/_libs/hashtable_class_helper.pxi:7080\u001b[0m, in \u001b[0;36mpandas._libs.hashtable.PyObjectHashTable.get_item\u001b[0;34m()\u001b[0m\n",
      "File \u001b[0;32mpandas/_libs/hashtable_class_helper.pxi:7088\u001b[0m, in \u001b[0;36mpandas._libs.hashtable.PyObjectHashTable.get_item\u001b[0;34m()\u001b[0m\n",
      "\u001b[0;31mKeyError\u001b[0m: '2017-11-13'",
      "\nThe above exception was the direct cause of the following exception:\n",
      "\u001b[0;31mKeyError\u001b[0m                                  Traceback (most recent call last)",
      "\u001b[1;32m/Users/linhvoquang/Desktop/vo_midterm/vo_midterm/midterm.ipynb Cell 12\u001b[0m line \u001b[0;36m1\n\u001b[0;32m----> <a href='vscode-notebook-cell:/Users/linhvoquang/Desktop/vo_midterm/vo_midterm/midterm.ipynb#X12sZmlsZQ%3D%3D?line=0'>1</a>\u001b[0m \u001b[39mtype\u001b[39m(CME[\u001b[39m'\u001b[39;49m\u001b[39m2017-11-13\u001b[39;49m\u001b[39m'\u001b[39;49m])\n",
      "File \u001b[0;32m/Library/Frameworks/Python.framework/Versions/3.12/lib/python3.12/site-packages/pandas/core/frame.py:3896\u001b[0m, in \u001b[0;36mDataFrame.__getitem__\u001b[0;34m(self, key)\u001b[0m\n\u001b[1;32m   3894\u001b[0m \u001b[39mif\u001b[39;00m \u001b[39mself\u001b[39m\u001b[39m.\u001b[39mcolumns\u001b[39m.\u001b[39mnlevels \u001b[39m>\u001b[39m \u001b[39m1\u001b[39m:\n\u001b[1;32m   3895\u001b[0m     \u001b[39mreturn\u001b[39;00m \u001b[39mself\u001b[39m\u001b[39m.\u001b[39m_getitem_multilevel(key)\n\u001b[0;32m-> 3896\u001b[0m indexer \u001b[39m=\u001b[39m \u001b[39mself\u001b[39;49m\u001b[39m.\u001b[39;49mcolumns\u001b[39m.\u001b[39;49mget_loc(key)\n\u001b[1;32m   3897\u001b[0m \u001b[39mif\u001b[39;00m is_integer(indexer):\n\u001b[1;32m   3898\u001b[0m     indexer \u001b[39m=\u001b[39m [indexer]\n",
      "File \u001b[0;32m/Library/Frameworks/Python.framework/Versions/3.12/lib/python3.12/site-packages/pandas/core/indexes/base.py:3797\u001b[0m, in \u001b[0;36mIndex.get_loc\u001b[0;34m(self, key)\u001b[0m\n\u001b[1;32m   3792\u001b[0m     \u001b[39mif\u001b[39;00m \u001b[39misinstance\u001b[39m(casted_key, \u001b[39mslice\u001b[39m) \u001b[39mor\u001b[39;00m (\n\u001b[1;32m   3793\u001b[0m         \u001b[39misinstance\u001b[39m(casted_key, abc\u001b[39m.\u001b[39mIterable)\n\u001b[1;32m   3794\u001b[0m         \u001b[39mand\u001b[39;00m \u001b[39many\u001b[39m(\u001b[39misinstance\u001b[39m(x, \u001b[39mslice\u001b[39m) \u001b[39mfor\u001b[39;00m x \u001b[39min\u001b[39;00m casted_key)\n\u001b[1;32m   3795\u001b[0m     ):\n\u001b[1;32m   3796\u001b[0m         \u001b[39mraise\u001b[39;00m InvalidIndexError(key)\n\u001b[0;32m-> 3797\u001b[0m     \u001b[39mraise\u001b[39;00m \u001b[39mKeyError\u001b[39;00m(key) \u001b[39mfrom\u001b[39;00m \u001b[39merr\u001b[39;00m\n\u001b[1;32m   3798\u001b[0m \u001b[39mexcept\u001b[39;00m \u001b[39mTypeError\u001b[39;00m:\n\u001b[1;32m   3799\u001b[0m     \u001b[39m# If we have a listlike key, _check_indexing_error will raise\u001b[39;00m\n\u001b[1;32m   3800\u001b[0m     \u001b[39m#  InvalidIndexError. Otherwise we fall through and re-raise\u001b[39;00m\n\u001b[1;32m   3801\u001b[0m     \u001b[39m#  the TypeError.\u001b[39;00m\n\u001b[1;32m   3802\u001b[0m     \u001b[39mself\u001b[39m\u001b[39m.\u001b[39m_check_indexing_error(key)\n",
      "\u001b[0;31mKeyError\u001b[0m: '2017-11-13'"
     ]
    }
   ],
   "source": [
    "type(CME['2017-11-13'])"
   ]
  },
  {
   "cell_type": "code",
   "execution_count": 26,
   "metadata": {},
   "outputs": [
    {
     "data": {
      "text/html": [
       "<div>\n",
       "<style scoped>\n",
       "    .dataframe tbody tr th:only-of-type {\n",
       "        vertical-align: middle;\n",
       "    }\n",
       "\n",
       "    .dataframe tbody tr th {\n",
       "        vertical-align: top;\n",
       "    }\n",
       "\n",
       "    .dataframe thead th {\n",
       "        text-align: right;\n",
       "    }\n",
       "</style>\n",
       "<table border=\"1\" class=\"dataframe\">\n",
       "  <thead>\n",
       "    <tr style=\"text-align: right;\">\n",
       "      <th></th>\n",
       "      <th>Date</th>\n",
       "      <th>High</th>\n",
       "      <th>Low</th>\n",
       "      <th>Open</th>\n",
       "      <th>Close</th>\n",
       "      <th>Volume</th>\n",
       "      <th>Adj Close</th>\n",
       "    </tr>\n",
       "  </thead>\n",
       "  <tbody>\n",
       "    <tr>\n",
       "      <th>0</th>\n",
       "      <td>2017-11-13</td>\n",
       "      <td>70.250000</td>\n",
       "      <td>68.800003</td>\n",
       "      <td>69.150002</td>\n",
       "      <td>70.150002</td>\n",
       "      <td>1377500.0</td>\n",
       "      <td>60.831173</td>\n",
       "    </tr>\n",
       "    <tr>\n",
       "      <th>1</th>\n",
       "      <td>2017-11-14</td>\n",
       "      <td>70.349998</td>\n",
       "      <td>69.570000</td>\n",
       "      <td>70.089996</td>\n",
       "      <td>69.980003</td>\n",
       "      <td>1520100.0</td>\n",
       "      <td>60.683773</td>\n",
       "    </tr>\n",
       "    <tr>\n",
       "      <th>2</th>\n",
       "      <td>2017-11-15</td>\n",
       "      <td>70.089996</td>\n",
       "      <td>68.900002</td>\n",
       "      <td>69.970001</td>\n",
       "      <td>69.029999</td>\n",
       "      <td>1072900.0</td>\n",
       "      <td>59.859966</td>\n",
       "    </tr>\n",
       "    <tr>\n",
       "      <th>3</th>\n",
       "      <td>2017-11-16</td>\n",
       "      <td>69.419998</td>\n",
       "      <td>68.529999</td>\n",
       "      <td>69.070000</td>\n",
       "      <td>69.220001</td>\n",
       "      <td>1025500.0</td>\n",
       "      <td>60.024731</td>\n",
       "    </tr>\n",
       "    <tr>\n",
       "      <th>4</th>\n",
       "      <td>2017-11-17</td>\n",
       "      <td>69.300003</td>\n",
       "      <td>68.169998</td>\n",
       "      <td>68.980003</td>\n",
       "      <td>68.320000</td>\n",
       "      <td>1630400.0</td>\n",
       "      <td>59.244286</td>\n",
       "    </tr>\n",
       "  </tbody>\n",
       "</table>\n",
       "</div>"
      ],
      "text/plain": [
       "        Date       High        Low       Open      Close     Volume  Adj Close\n",
       "0 2017-11-13  70.250000  68.800003  69.150002  70.150002  1377500.0  60.831173\n",
       "1 2017-11-14  70.349998  69.570000  70.089996  69.980003  1520100.0  60.683773\n",
       "2 2017-11-15  70.089996  68.900002  69.970001  69.029999  1072900.0  59.859966\n",
       "3 2017-11-16  69.419998  68.529999  69.070000  69.220001  1025500.0  60.024731\n",
       "4 2017-11-17  69.300003  68.169998  68.980003  68.320000  1630400.0  59.244286"
      ]
     },
     "execution_count": 26,
     "metadata": {},
     "output_type": "execute_result"
    }
   ],
   "source": [
    "EQR.head()"
   ]
  },
  {
   "cell_type": "code",
   "execution_count": 32,
   "metadata": {},
   "outputs": [
    {
     "data": {
      "text/plain": [
       "['CME', 'EQR', 'FISV', 'GE', 'LNC']"
      ]
     },
     "execution_count": 32,
     "metadata": {},
     "output_type": "execute_result"
    }
   ],
   "source": [
    "firms"
   ]
  },
  {
   "cell_type": "code",
   "execution_count": 33,
   "metadata": {},
   "outputs": [
    {
     "data": {
      "text/html": [
       "<div>\n",
       "<style scoped>\n",
       "    .dataframe tbody tr th:only-of-type {\n",
       "        vertical-align: middle;\n",
       "    }\n",
       "\n",
       "    .dataframe tbody tr th {\n",
       "        vertical-align: top;\n",
       "    }\n",
       "\n",
       "    .dataframe thead th {\n",
       "        text-align: right;\n",
       "    }\n",
       "</style>\n",
       "<table border=\"1\" class=\"dataframe\">\n",
       "  <thead>\n",
       "    <tr style=\"text-align: right;\">\n",
       "      <th></th>\n",
       "      <th>Date</th>\n",
       "      <th>High</th>\n",
       "      <th>Low</th>\n",
       "      <th>Open</th>\n",
       "      <th>Close</th>\n",
       "      <th>Volume</th>\n",
       "      <th>Adj Close</th>\n",
       "    </tr>\n",
       "  </thead>\n",
       "  <tbody>\n",
       "    <tr>\n",
       "      <th>0</th>\n",
       "      <td>2017-11-13</td>\n",
       "      <td>64.285004</td>\n",
       "      <td>63.689999</td>\n",
       "      <td>63.985001</td>\n",
       "      <td>64.080002</td>\n",
       "      <td>1387000.0</td>\n",
       "      <td>64.080002</td>\n",
       "    </tr>\n",
       "    <tr>\n",
       "      <th>1</th>\n",
       "      <td>2017-11-14</td>\n",
       "      <td>64.925003</td>\n",
       "      <td>63.759998</td>\n",
       "      <td>63.900002</td>\n",
       "      <td>64.864998</td>\n",
       "      <td>1428600.0</td>\n",
       "      <td>64.864998</td>\n",
       "    </tr>\n",
       "    <tr>\n",
       "      <th>2</th>\n",
       "      <td>2017-11-15</td>\n",
       "      <td>64.915001</td>\n",
       "      <td>64.000000</td>\n",
       "      <td>64.764999</td>\n",
       "      <td>64.260002</td>\n",
       "      <td>1989200.0</td>\n",
       "      <td>64.260002</td>\n",
       "    </tr>\n",
       "    <tr>\n",
       "      <th>3</th>\n",
       "      <td>2017-11-16</td>\n",
       "      <td>65.050003</td>\n",
       "      <td>64.360001</td>\n",
       "      <td>64.455002</td>\n",
       "      <td>64.769997</td>\n",
       "      <td>1337000.0</td>\n",
       "      <td>64.769997</td>\n",
       "    </tr>\n",
       "    <tr>\n",
       "      <th>4</th>\n",
       "      <td>2017-11-17</td>\n",
       "      <td>64.739998</td>\n",
       "      <td>63.959999</td>\n",
       "      <td>64.720001</td>\n",
       "      <td>64.195000</td>\n",
       "      <td>1611000.0</td>\n",
       "      <td>64.195000</td>\n",
       "    </tr>\n",
       "  </tbody>\n",
       "</table>\n",
       "</div>"
      ],
      "text/plain": [
       "        Date       High        Low       Open      Close     Volume  Adj Close\n",
       "0 2017-11-13  64.285004  63.689999  63.985001  64.080002  1387000.0  64.080002\n",
       "1 2017-11-14  64.925003  63.759998  63.900002  64.864998  1428600.0  64.864998\n",
       "2 2017-11-15  64.915001  64.000000  64.764999  64.260002  1989200.0  64.260002\n",
       "3 2017-11-16  65.050003  64.360001  64.455002  64.769997  1337000.0  64.769997\n",
       "4 2017-11-17  64.739998  63.959999  64.720001  64.195000  1611000.0  64.195000"
      ]
     },
     "execution_count": 33,
     "metadata": {},
     "output_type": "execute_result"
    }
   ],
   "source": [
    "FISV.head()"
   ]
  },
  {
   "cell_type": "code",
   "execution_count": 34,
   "metadata": {},
   "outputs": [
    {
     "data": {
      "text/html": [
       "<div>\n",
       "<style scoped>\n",
       "    .dataframe tbody tr th:only-of-type {\n",
       "        vertical-align: middle;\n",
       "    }\n",
       "\n",
       "    .dataframe tbody tr th {\n",
       "        vertical-align: top;\n",
       "    }\n",
       "\n",
       "    .dataframe thead th {\n",
       "        text-align: right;\n",
       "    }\n",
       "</style>\n",
       "<table border=\"1\" class=\"dataframe\">\n",
       "  <thead>\n",
       "    <tr style=\"text-align: right;\">\n",
       "      <th></th>\n",
       "      <th>Date</th>\n",
       "      <th>High</th>\n",
       "      <th>Low</th>\n",
       "      <th>Open</th>\n",
       "      <th>Close</th>\n",
       "      <th>Volume</th>\n",
       "      <th>Adj Close</th>\n",
       "    </tr>\n",
       "  </thead>\n",
       "  <tbody>\n",
       "    <tr>\n",
       "      <th>0</th>\n",
       "      <td>2017-11-13</td>\n",
       "      <td>159.615387</td>\n",
       "      <td>144.230774</td>\n",
       "      <td>155.846161</td>\n",
       "      <td>146.307693</td>\n",
       "      <td>34002462.0</td>\n",
       "      <td>145.114578</td>\n",
       "    </tr>\n",
       "    <tr>\n",
       "      <th>1</th>\n",
       "      <td>2017-11-14</td>\n",
       "      <td>145.230774</td>\n",
       "      <td>134.307693</td>\n",
       "      <td>144.538467</td>\n",
       "      <td>137.692307</td>\n",
       "      <td>40632384.0</td>\n",
       "      <td>136.569443</td>\n",
       "    </tr>\n",
       "    <tr>\n",
       "      <th>2</th>\n",
       "      <td>2017-11-15</td>\n",
       "      <td>141.384613</td>\n",
       "      <td>134.615387</td>\n",
       "      <td>134.692307</td>\n",
       "      <td>140.461533</td>\n",
       "      <td>18767840.0</td>\n",
       "      <td>139.316086</td>\n",
       "    </tr>\n",
       "    <tr>\n",
       "      <th>3</th>\n",
       "      <td>2017-11-16</td>\n",
       "      <td>142.153839</td>\n",
       "      <td>138.846161</td>\n",
       "      <td>142.153839</td>\n",
       "      <td>140.384613</td>\n",
       "      <td>11618958.0</td>\n",
       "      <td>139.239792</td>\n",
       "    </tr>\n",
       "    <tr>\n",
       "      <th>4</th>\n",
       "      <td>2017-11-17</td>\n",
       "      <td>142.076920</td>\n",
       "      <td>140.076920</td>\n",
       "      <td>141.076920</td>\n",
       "      <td>140.076920</td>\n",
       "      <td>7859436.0</td>\n",
       "      <td>138.934586</td>\n",
       "    </tr>\n",
       "  </tbody>\n",
       "</table>\n",
       "</div>"
      ],
      "text/plain": [
       "        Date        High         Low        Open       Close      Volume  \\\n",
       "0 2017-11-13  159.615387  144.230774  155.846161  146.307693  34002462.0   \n",
       "1 2017-11-14  145.230774  134.307693  144.538467  137.692307  40632384.0   \n",
       "2 2017-11-15  141.384613  134.615387  134.692307  140.461533  18767840.0   \n",
       "3 2017-11-16  142.153839  138.846161  142.153839  140.384613  11618958.0   \n",
       "4 2017-11-17  142.076920  140.076920  141.076920  140.076920   7859436.0   \n",
       "\n",
       "    Adj Close  \n",
       "0  145.114578  \n",
       "1  136.569443  \n",
       "2  139.316086  \n",
       "3  139.239792  \n",
       "4  138.934586  "
      ]
     },
     "execution_count": 34,
     "metadata": {},
     "output_type": "execute_result"
    }
   ],
   "source": [
    "GE.head()"
   ]
  },
  {
   "cell_type": "code",
   "execution_count": 36,
   "metadata": {},
   "outputs": [
    {
     "data": {
      "text/html": [
       "<div>\n",
       "<style scoped>\n",
       "    .dataframe tbody tr th:only-of-type {\n",
       "        vertical-align: middle;\n",
       "    }\n",
       "\n",
       "    .dataframe tbody tr th {\n",
       "        vertical-align: top;\n",
       "    }\n",
       "\n",
       "    .dataframe thead th {\n",
       "        text-align: right;\n",
       "    }\n",
       "</style>\n",
       "<table border=\"1\" class=\"dataframe\">\n",
       "  <thead>\n",
       "    <tr style=\"text-align: right;\">\n",
       "      <th></th>\n",
       "      <th>Date</th>\n",
       "      <th>High</th>\n",
       "      <th>Low</th>\n",
       "      <th>Open</th>\n",
       "      <th>Close</th>\n",
       "      <th>Volume</th>\n",
       "      <th>Adj Close</th>\n",
       "    </tr>\n",
       "  </thead>\n",
       "  <tbody>\n",
       "    <tr>\n",
       "      <th>0</th>\n",
       "      <td>2017-11-13</td>\n",
       "      <td>74.139999</td>\n",
       "      <td>73.010002</td>\n",
       "      <td>73.110001</td>\n",
       "      <td>73.900002</td>\n",
       "      <td>1060500.0</td>\n",
       "      <td>64.800636</td>\n",
       "    </tr>\n",
       "    <tr>\n",
       "      <th>1</th>\n",
       "      <td>2017-11-14</td>\n",
       "      <td>73.510002</td>\n",
       "      <td>72.760002</td>\n",
       "      <td>73.260002</td>\n",
       "      <td>73.440002</td>\n",
       "      <td>1150100.0</td>\n",
       "      <td>64.397285</td>\n",
       "    </tr>\n",
       "    <tr>\n",
       "      <th>2</th>\n",
       "      <td>2017-11-15</td>\n",
       "      <td>74.400002</td>\n",
       "      <td>72.540001</td>\n",
       "      <td>72.680000</td>\n",
       "      <td>73.949997</td>\n",
       "      <td>1484200.0</td>\n",
       "      <td>64.844482</td>\n",
       "    </tr>\n",
       "    <tr>\n",
       "      <th>3</th>\n",
       "      <td>2017-11-16</td>\n",
       "      <td>74.970001</td>\n",
       "      <td>73.570000</td>\n",
       "      <td>74.580002</td>\n",
       "      <td>74.010002</td>\n",
       "      <td>1418700.0</td>\n",
       "      <td>64.897095</td>\n",
       "    </tr>\n",
       "    <tr>\n",
       "      <th>4</th>\n",
       "      <td>2017-11-17</td>\n",
       "      <td>74.739998</td>\n",
       "      <td>73.470001</td>\n",
       "      <td>73.470001</td>\n",
       "      <td>74.279999</td>\n",
       "      <td>1100400.0</td>\n",
       "      <td>65.133835</td>\n",
       "    </tr>\n",
       "  </tbody>\n",
       "</table>\n",
       "</div>"
      ],
      "text/plain": [
       "        Date       High        Low       Open      Close     Volume  Adj Close\n",
       "0 2017-11-13  74.139999  73.010002  73.110001  73.900002  1060500.0  64.800636\n",
       "1 2017-11-14  73.510002  72.760002  73.260002  73.440002  1150100.0  64.397285\n",
       "2 2017-11-15  74.400002  72.540001  72.680000  73.949997  1484200.0  64.844482\n",
       "3 2017-11-16  74.970001  73.570000  74.580002  74.010002  1418700.0  64.897095\n",
       "4 2017-11-17  74.739998  73.470001  73.470001  74.279999  1100400.0  65.133835"
      ]
     },
     "execution_count": 36,
     "metadata": {},
     "output_type": "execute_result"
    }
   ],
   "source": [
    "LNC.head()"
   ]
  },
  {
   "cell_type": "markdown",
   "metadata": {},
   "source": [
    "1. After I checked the data to see each company's structure, I noticed immediately, that we can observe that only company FISV is closing on the same value.\n",
    "\n",
    "The adjusted closing price contains accurate indication of the stock's value unlike the closing price (how much investors paid for shares at the end of a trading day) "
   ]
  },
  {
   "cell_type": "code",
   "execution_count": 63,
   "metadata": {},
   "outputs": [
    {
     "ename": "AttributeError",
     "evalue": "'str' object has no attribute 'groupby'",
     "output_type": "error",
     "traceback": [
      "\u001b[0;31m---------------------------------------------------------------------------\u001b[0m",
      "\u001b[0;31mAttributeError\u001b[0m                            Traceback (most recent call last)",
      "\u001b[1;32m/Users/linhvoquang/Desktop/vo_midterm/vo_midterm/midterm.ipynb Cell 19\u001b[0m line \u001b[0;36m2\n\u001b[1;32m      <a href='vscode-notebook-cell:/Users/linhvoquang/Desktop/vo_midterm/vo_midterm/midterm.ipynb#X26sZmlsZQ%3D%3D?line=0'>1</a>\u001b[0m \u001b[39mfor\u001b[39;00m i \u001b[39min\u001b[39;00m firms:\n\u001b[0;32m----> <a href='vscode-notebook-cell:/Users/linhvoquang/Desktop/vo_midterm/vo_midterm/midterm.ipynb#X26sZmlsZQ%3D%3D?line=1'>2</a>\u001b[0m     highest_adj_close \u001b[39m=\u001b[39m i\u001b[39m.\u001b[39;49mgroupby(\u001b[39m'\u001b[39m\u001b[39mi\u001b[39m\u001b[39m'\u001b[39m)[\u001b[39m'\u001b[39m\u001b[39mAdj Close\u001b[39m\u001b[39m'\u001b[39m]\u001b[39m.\u001b[39mmax()\n\u001b[1;32m      <a href='vscode-notebook-cell:/Users/linhvoquang/Desktop/vo_midterm/vo_midterm/midterm.ipynb#X26sZmlsZQ%3D%3D?line=2'>3</a>\u001b[0m     lowest_adj_close \u001b[39m=\u001b[39m i\u001b[39m.\u001b[39mgroupby(\u001b[39m'\u001b[39m\u001b[39mi\u001b[39m\u001b[39m'\u001b[39m)[\u001b[39m'\u001b[39m\u001b[39mAdj Close\u001b[39m\u001b[39m'\u001b[39m]\u001b[39m.\u001b[39mmin()\n\u001b[1;32m      <a href='vscode-notebook-cell:/Users/linhvoquang/Desktop/vo_midterm/vo_midterm/midterm.ipynb#X26sZmlsZQ%3D%3D?line=4'>5</a>\u001b[0m     \u001b[39mprint\u001b[39m(highest_adj_close)\n",
      "\u001b[0;31mAttributeError\u001b[0m: 'str' object has no attribute 'groupby'"
     ]
    }
   ],
   "source": [
    "for i in firms:\n",
    "    highest_adj_close = i.groupby('i')['Adj Close'].max()\n",
    "    lowest_adj_close = i.groupby('i')['Adj Close'].min()\n",
    "\n",
    "    print(highest_adj_close)\n",
    "    print(lowest_adj_close)"
   ]
  },
  {
   "cell_type": "code",
   "execution_count": 49,
   "metadata": {},
   "outputs": [
    {
     "name": "stdout",
     "output_type": "stream",
     "text": [
      "250.75999450683597\n",
      "123.51911163330078\n"
     ]
    }
   ],
   "source": [
    "highest_adj_close = CME['Adj Close'].max()\n",
    "\n",
    "lowest_adj_close = CME['Adj Close'].min()\n",
    "\n",
    "print(highest_adj_close)\n",
    "print(lowest_adj_close)"
   ]
  },
  {
   "cell_type": "code",
   "execution_count": 50,
   "metadata": {},
   "outputs": [
    {
     "name": "stdout",
     "output_type": "stream",
     "text": [
      "93.23999786376952\n",
      "44.40938949584961\n"
     ]
    }
   ],
   "source": [
    "highest_adj_close = EQR['Adj Close'].max()\n",
    "\n",
    "lowest_adj_close = EQR['Adj Close'].min()\n",
    "\n",
    "print(highest_adj_close)\n",
    "print(lowest_adj_close)"
   ]
  },
  {
   "cell_type": "code",
   "execution_count": 51,
   "metadata": {},
   "outputs": [
    {
     "name": "stdout",
     "output_type": "stream",
     "text": [
      "126.5500030517578\n",
      "63.85499954223633\n"
     ]
    }
   ],
   "source": [
    "highest_adj_close = FISV['Adj Close'].max()\n",
    "\n",
    "lowest_adj_close = FISV['Adj Close'].min()\n",
    "\n",
    "print(highest_adj_close)\n",
    "print(lowest_adj_close)"
   ]
  },
  {
   "cell_type": "code",
   "execution_count": 52,
   "metadata": {},
   "outputs": [
    {
     "name": "stdout",
     "output_type": "stream",
     "text": [
      "145.3667449951172\n",
      "43.81699752807617\n"
     ]
    }
   ],
   "source": [
    "highest_adj_close = GE['Adj Close'].max()\n",
    "\n",
    "lowest_adj_close = GE['Adj Close'].min()\n",
    "\n",
    "print(highest_adj_close)\n",
    "print(lowest_adj_close)"
   ]
  },
  {
   "cell_type": "code",
   "execution_count": 53,
   "metadata": {},
   "outputs": [
    {
     "name": "stdout",
     "output_type": "stream",
     "text": [
      "75.65805053710938\n",
      "15.741825103759766\n"
     ]
    }
   ],
   "source": [
    "highest_adj_close = LNC['Adj Close'].max()\n",
    "\n",
    "lowest_adj_close = LNC['Adj Close'].min()\n",
    "\n",
    "print(highest_adj_close)\n",
    "print(lowest_adj_close)"
   ]
  },
  {
   "cell_type": "markdown",
   "metadata": {},
   "source": [
    "2. in those previous tables it can be seen the max and min of the adj close of each firms"
   ]
  },
  {
   "cell_type": "code",
   "execution_count": 83,
   "metadata": {},
   "outputs": [],
   "source": [
    "CME['Log Return'] = np.log(CME['Adj Close'] / CME['Adj Close'].shift(1))\n",
    "\n",
    "highest_gain_day = CME['Log Return'].idxmax()\n",
    "highest_loss_day = CME['Log Return'].idxmin()"
   ]
  },
  {
   "cell_type": "code",
   "execution_count": 84,
   "metadata": {},
   "outputs": [
    {
     "name": "stdout",
     "output_type": "stream",
     "text": [
      "594\n",
      "586\n"
     ]
    },
    {
     "data": {
      "text/plain": [
       "count    1257.000000\n",
       "mean        0.000270\n",
       "std         0.018176\n",
       "min        -0.203207\n",
       "25%        -0.007453\n",
       "50%         0.000903\n",
       "75%         0.008226\n",
       "max         0.111902\n",
       "Name: Log Return, dtype: float64"
      ]
     },
     "execution_count": 84,
     "metadata": {},
     "output_type": "execute_result"
    }
   ],
   "source": [
    "print(highest_gain_day)\n",
    "print(highest_loss_day)\n",
    "CME['Log Return'].describe()"
   ]
  },
  {
   "cell_type": "code",
   "execution_count": 85,
   "metadata": {},
   "outputs": [
    {
     "name": "stdout",
     "output_type": "stream",
     "text": [
      "752\n",
      "586\n"
     ]
    },
    {
     "data": {
      "text/plain": [
       "count    1258.000000\n",
       "mean        0.000025\n",
       "std         0.018368\n",
       "min        -0.185287\n",
       "25%        -0.008015\n",
       "50%         0.000599\n",
       "75%         0.008373\n",
       "max         0.140302\n",
       "Name: Log Return, dtype: float64"
      ]
     },
     "execution_count": 85,
     "metadata": {},
     "output_type": "execute_result"
    }
   ],
   "source": [
    "firm = EQR\n",
    "firm['Log Return'] = np.log(firm['Adj Close'] / firm['Adj Close'].shift(1))\n",
    "\n",
    "highest_gain_day = firm['Log Return'].idxmax()\n",
    "highest_loss_day = firm['Log Return'].idxmin()\n",
    "print(highest_gain_day)\n",
    "print(highest_loss_day)\n",
    "firm['Log Return'].describe()"
   ]
  },
  {
   "cell_type": "code",
   "execution_count": 86,
   "metadata": {},
   "outputs": [
    {
     "name": "stdout",
     "output_type": "stream",
     "text": [
      "592\n",
      "586\n"
     ]
    },
    {
     "data": {
      "text/plain": [
       "count    1257.000000\n",
       "mean        0.000358\n",
       "std         0.019345\n",
       "min        -0.182360\n",
       "25%        -0.008412\n",
       "50%         0.000805\n",
       "75%         0.009416\n",
       "max         0.118072\n",
       "Name: Log Return, dtype: float64"
      ]
     },
     "execution_count": 86,
     "metadata": {},
     "output_type": "execute_result"
    }
   ],
   "source": [
    "firm = FISV\n",
    "firm['Log Return'] = np.log(firm['Adj Close'] / firm['Adj Close'].shift(1))\n",
    "\n",
    "highest_gain_day = firm['Log Return'].idxmax()\n",
    "highest_loss_day = firm['Log Return'].idxmin()\n",
    "print(highest_gain_day)\n",
    "print(highest_loss_day)\n",
    "firm['Log Return'].describe()"
   ]
  },
  {
   "cell_type": "code",
   "execution_count": 87,
   "metadata": {},
   "outputs": [
    {
     "name": "stdout",
     "output_type": "stream",
     "text": [
      "592\n",
      "586\n"
     ]
    },
    {
     "data": {
      "text/plain": [
       "count    1258.000000\n",
       "mean       -0.000413\n",
       "std         0.027478\n",
       "min        -0.164394\n",
       "25%        -0.013760\n",
       "50%        -0.000965\n",
       "75%         0.013300\n",
       "max         0.137411\n",
       "Name: Log Return, dtype: float64"
      ]
     },
     "execution_count": 87,
     "metadata": {},
     "output_type": "execute_result"
    }
   ],
   "source": [
    "firm = GE\n",
    "firm['Log Return'] = np.log(firm['Adj Close'] / firm['Adj Close'].shift(1))\n",
    "\n",
    "highest_gain_day = firm['Log Return'].idxmax()\n",
    "highest_loss_day = firm['Log Return'].idxmin()\n",
    "print(highest_gain_day)\n",
    "print(highest_loss_day)\n",
    "firm['Log Return'].describe()"
   ]
  },
  {
   "cell_type": "code",
   "execution_count": 81,
   "metadata": {},
   "outputs": [
    {
     "name": "stdout",
     "output_type": "stream",
     "text": [
      "592\n",
      "1252\n"
     ]
    },
    {
     "data": {
      "text/plain": [
       "count    1258.000000\n",
       "mean       -0.000484\n",
       "std         0.035288\n",
       "min        -0.402686\n",
       "25%        -0.013548\n",
       "50%         0.000897\n",
       "75%         0.014970\n",
       "max         0.275359\n",
       "Name: Log Return, dtype: float64"
      ]
     },
     "execution_count": 81,
     "metadata": {},
     "output_type": "execute_result"
    }
   ],
   "source": [
    "firm = LNC\n",
    "firm['Log Return'] = np.log(firm['Adj Close'] / firm['Adj Close'].shift(1))\n",
    "\n",
    "highest_gain_day = firm['Log Return'].idxmax()\n",
    "highest_loss_day = firm['Log Return'].idxmin()\n",
    "print(highest_gain_day)\n",
    "print(highest_loss_day)\n",
    "firm['Log Return'].describe()"
   ]
  },
  {
   "cell_type": "markdown",
   "metadata": {},
   "source": [
    "3. I calculated those logarithmic returns and made describe function\n",
    "\n",
    "4. Four firms (all besides EQR) got their gain near 600, while EQR achieved 752. The biggest loss has LNC with 1252. "
   ]
  },
  {
   "cell_type": "code",
   "execution_count": 103,
   "metadata": {},
   "outputs": [
    {
     "ename": "NameError",
     "evalue": "name 'czech_cases' is not defined",
     "output_type": "error",
     "traceback": [
      "\u001b[0;31m---------------------------------------------------------------------------\u001b[0m",
      "\u001b[0;31mNameError\u001b[0m                                 Traceback (most recent call last)",
      "\u001b[1;32m/Users/linhvoquang/Desktop/vo_midterm/vo_midterm/midterm.ipynb Cell 33\u001b[0m line \u001b[0;36m1\n\u001b[0;32m----> <a href='vscode-notebook-cell:/Users/linhvoquang/Desktop/vo_midterm/vo_midterm/midterm.ipynb#X55sZmlsZQ%3D%3D?line=0'>1</a>\u001b[0m ax \u001b[39m=\u001b[39m czech_cases\u001b[39m.\u001b[39mplot(color \u001b[39m=\u001b[39m \u001b[39m'\u001b[39m\u001b[39mlightgrey\u001b[39m\u001b[39m'\u001b[39m,label\u001b[39m=\u001b[39m\u001b[39m'\u001b[39m\u001b[39mother values\u001b[39m\u001b[39m'\u001b[39m,legend\u001b[39m=\u001b[39m\u001b[39mTrue\u001b[39;00m,\u001b[39m*\u001b[39m\u001b[39m*\u001b[39mplotconfig)\n\u001b[1;32m      <a href='vscode-notebook-cell:/Users/linhvoquang/Desktop/vo_midterm/vo_midterm/midterm.ipynb#X55sZmlsZQ%3D%3D?line=1'>2</a>\u001b[0m czech_cases\u001b[39m.\u001b[39mloc[(czech_cases[\u001b[39m'\u001b[39m\u001b[39mnew_cases\u001b[39m\u001b[39m'\u001b[39m] \u001b[39m>\u001b[39m\u001b[39m=\u001b[39m \u001b[39m5000\u001b[39m) \u001b[39m&\u001b[39m (czech_cases[\u001b[39m'\u001b[39m\u001b[39mnew_cases\u001b[39m\u001b[39m'\u001b[39m] \u001b[39m<\u001b[39m \u001b[39m15000\u001b[39m), \u001b[39m'\u001b[39m\u001b[39mnew_cases\u001b[39m\u001b[39m'\u001b[39m]\u001b[39m.\u001b[39mplot(ax\u001b[39m=\u001b[39max,label\u001b[39m=\u001b[39m\u001b[39m'\u001b[39m\u001b[39mValues between 500 and 750\u001b[39m\u001b[39m'\u001b[39m,legend\u001b[39m=\u001b[39m\u001b[39mTrue\u001b[39;00m,\u001b[39m*\u001b[39m\u001b[39m*\u001b[39mplotconfig)\n\u001b[1;32m      <a href='vscode-notebook-cell:/Users/linhvoquang/Desktop/vo_midterm/vo_midterm/midterm.ipynb#X55sZmlsZQ%3D%3D?line=2'>3</a>\u001b[0m \u001b[39m#czech_cases.loc[czech_cases.index.weekday == 6, 'new_cases'].plot(ax=ax,label='Sunday',legend=True,**plotconfig)\u001b[39;00m\n\u001b[1;32m      <a href='vscode-notebook-cell:/Users/linhvoquang/Desktop/vo_midterm/vo_midterm/midterm.ipynb#X55sZmlsZQ%3D%3D?line=3'>4</a>\u001b[0m \u001b[39m#czech_cases.loc[czech_cases.index.weekday == 5,'new_cases'].plot(ax=ax,label='Saturday',legend=True,**plotconfig)\u001b[39;00m\n",
      "\u001b[0;31mNameError\u001b[0m: name 'czech_cases' is not defined"
     ]
    }
   ],
   "source": [
    "ax = czech_cases.plot(color = 'lightgrey',label='other values',legend=True,**plotconfig)\n",
    "czech_cases.loc[(czech_cases['new_cases'] >= 5000) & (czech_cases['new_cases'] < 15000), 'new_cases'].plot(ax=ax,label='Values between 500 and 750',legend=True,**plotconfig)\n",
    "#czech_cases.loc[czech_cases.index.weekday == 6, 'new_cases'].plot(ax=ax,label='Sunday',legend=True,**plotconfig)\n",
    "#czech_cases.loc[czech_cases.index.weekday == 5,'new_cases'].plot(ax=ax,label='Saturday',legend=True,**plotconfig)"
   ]
  },
  {
   "cell_type": "markdown",
   "metadata": {},
   "source": [
    "this would be my source to make plots"
   ]
  },
  {
   "cell_type": "markdown",
   "metadata": {},
   "source": []
  },
  {
   "cell_type": "code",
   "execution_count": 57,
   "metadata": {},
   "outputs": [],
   "source": [
    "sap = pd.read_csv('data/companies_no_subindustry.csv')"
   ]
  },
  {
   "cell_type": "code",
   "execution_count": 58,
   "metadata": {},
   "outputs": [
    {
     "data": {
      "text/html": [
       "<div>\n",
       "<style scoped>\n",
       "    .dataframe tbody tr th:only-of-type {\n",
       "        vertical-align: middle;\n",
       "    }\n",
       "\n",
       "    .dataframe tbody tr th {\n",
       "        vertical-align: top;\n",
       "    }\n",
       "\n",
       "    .dataframe thead th {\n",
       "        text-align: right;\n",
       "    }\n",
       "</style>\n",
       "<table border=\"1\" class=\"dataframe\">\n",
       "  <thead>\n",
       "    <tr style=\"text-align: right;\">\n",
       "      <th></th>\n",
       "      <th>Symbol</th>\n",
       "      <th>Security</th>\n",
       "      <th>GICS_Sector</th>\n",
       "      <th>hq</th>\n",
       "      <th>included</th>\n",
       "      <th>Founded</th>\n",
       "    </tr>\n",
       "  </thead>\n",
       "  <tbody>\n",
       "    <tr>\n",
       "      <th>0</th>\n",
       "      <td>MMM</td>\n",
       "      <td>3M</td>\n",
       "      <td>Industrials</td>\n",
       "      <td>Saint Paul, Minnesota</td>\n",
       "      <td>09.08.1976</td>\n",
       "      <td>1902</td>\n",
       "    </tr>\n",
       "    <tr>\n",
       "      <th>1</th>\n",
       "      <td>AOS</td>\n",
       "      <td>A. O. Smith</td>\n",
       "      <td>Industrials</td>\n",
       "      <td>Milwaukee, Wisconsin</td>\n",
       "      <td>26.07.2017</td>\n",
       "      <td>1916</td>\n",
       "    </tr>\n",
       "    <tr>\n",
       "      <th>2</th>\n",
       "      <td>ABT</td>\n",
       "      <td>Abbott</td>\n",
       "      <td>Health Care</td>\n",
       "      <td>North Chicago, Illinois</td>\n",
       "      <td>31.03.1964</td>\n",
       "      <td>1888</td>\n",
       "    </tr>\n",
       "    <tr>\n",
       "      <th>3</th>\n",
       "      <td>ABBV</td>\n",
       "      <td>AbbVie</td>\n",
       "      <td>Health Care</td>\n",
       "      <td>North Chicago, Illinois</td>\n",
       "      <td>31.12.2012</td>\n",
       "      <td>2013 (1888)</td>\n",
       "    </tr>\n",
       "    <tr>\n",
       "      <th>4</th>\n",
       "      <td>ABMD</td>\n",
       "      <td>Abiomed</td>\n",
       "      <td>Health Care</td>\n",
       "      <td>Danvers, Massachusetts</td>\n",
       "      <td>31.05.2018</td>\n",
       "      <td>1981</td>\n",
       "    </tr>\n",
       "  </tbody>\n",
       "</table>\n",
       "</div>"
      ],
      "text/plain": [
       "  Symbol     Security  GICS_Sector                       hq    included  \\\n",
       "0    MMM           3M  Industrials    Saint Paul, Minnesota  09.08.1976   \n",
       "1    AOS  A. O. Smith  Industrials     Milwaukee, Wisconsin  26.07.2017   \n",
       "2    ABT       Abbott  Health Care  North Chicago, Illinois  31.03.1964   \n",
       "3   ABBV       AbbVie  Health Care  North Chicago, Illinois  31.12.2012   \n",
       "4   ABMD      Abiomed  Health Care   Danvers, Massachusetts  31.05.2018   \n",
       "\n",
       "       Founded  \n",
       "0         1902  \n",
       "1         1916  \n",
       "2         1888  \n",
       "3  2013 (1888)  \n",
       "4         1981  "
      ]
     },
     "execution_count": 58,
     "metadata": {},
     "output_type": "execute_result"
    }
   ],
   "source": [
    "sap.head()"
   ]
  },
  {
   "cell_type": "code",
   "execution_count": 88,
   "metadata": {},
   "outputs": [
    {
     "data": {
      "text/html": [
       "<div>\n",
       "<style scoped>\n",
       "    .dataframe tbody tr th:only-of-type {\n",
       "        vertical-align: middle;\n",
       "    }\n",
       "\n",
       "    .dataframe tbody tr th {\n",
       "        vertical-align: top;\n",
       "    }\n",
       "\n",
       "    .dataframe thead th {\n",
       "        text-align: right;\n",
       "    }\n",
       "</style>\n",
       "<table border=\"1\" class=\"dataframe\">\n",
       "  <thead>\n",
       "    <tr style=\"text-align: right;\">\n",
       "      <th></th>\n",
       "      <th>Symbol</th>\n",
       "      <th>Security</th>\n",
       "      <th>GICS_Sector</th>\n",
       "      <th>hq</th>\n",
       "      <th>included</th>\n",
       "      <th>Founded</th>\n",
       "    </tr>\n",
       "  </thead>\n",
       "  <tbody>\n",
       "    <tr>\n",
       "      <th>0</th>\n",
       "      <td>False</td>\n",
       "      <td>False</td>\n",
       "      <td>False</td>\n",
       "      <td>False</td>\n",
       "      <td>False</td>\n",
       "      <td>False</td>\n",
       "    </tr>\n",
       "    <tr>\n",
       "      <th>1</th>\n",
       "      <td>False</td>\n",
       "      <td>False</td>\n",
       "      <td>False</td>\n",
       "      <td>False</td>\n",
       "      <td>False</td>\n",
       "      <td>False</td>\n",
       "    </tr>\n",
       "    <tr>\n",
       "      <th>2</th>\n",
       "      <td>False</td>\n",
       "      <td>False</td>\n",
       "      <td>False</td>\n",
       "      <td>False</td>\n",
       "      <td>False</td>\n",
       "      <td>False</td>\n",
       "    </tr>\n",
       "    <tr>\n",
       "      <th>3</th>\n",
       "      <td>False</td>\n",
       "      <td>False</td>\n",
       "      <td>False</td>\n",
       "      <td>False</td>\n",
       "      <td>False</td>\n",
       "      <td>False</td>\n",
       "    </tr>\n",
       "    <tr>\n",
       "      <th>4</th>\n",
       "      <td>False</td>\n",
       "      <td>False</td>\n",
       "      <td>False</td>\n",
       "      <td>False</td>\n",
       "      <td>False</td>\n",
       "      <td>False</td>\n",
       "    </tr>\n",
       "    <tr>\n",
       "      <th>...</th>\n",
       "      <td>...</td>\n",
       "      <td>...</td>\n",
       "      <td>...</td>\n",
       "      <td>...</td>\n",
       "      <td>...</td>\n",
       "      <td>...</td>\n",
       "    </tr>\n",
       "    <tr>\n",
       "      <th>498</th>\n",
       "      <td>False</td>\n",
       "      <td>False</td>\n",
       "      <td>False</td>\n",
       "      <td>False</td>\n",
       "      <td>False</td>\n",
       "      <td>False</td>\n",
       "    </tr>\n",
       "    <tr>\n",
       "      <th>499</th>\n",
       "      <td>False</td>\n",
       "      <td>False</td>\n",
       "      <td>False</td>\n",
       "      <td>False</td>\n",
       "      <td>False</td>\n",
       "      <td>False</td>\n",
       "    </tr>\n",
       "    <tr>\n",
       "      <th>500</th>\n",
       "      <td>False</td>\n",
       "      <td>False</td>\n",
       "      <td>False</td>\n",
       "      <td>False</td>\n",
       "      <td>False</td>\n",
       "      <td>False</td>\n",
       "    </tr>\n",
       "    <tr>\n",
       "      <th>501</th>\n",
       "      <td>False</td>\n",
       "      <td>False</td>\n",
       "      <td>False</td>\n",
       "      <td>False</td>\n",
       "      <td>False</td>\n",
       "      <td>False</td>\n",
       "    </tr>\n",
       "    <tr>\n",
       "      <th>502</th>\n",
       "      <td>False</td>\n",
       "      <td>False</td>\n",
       "      <td>False</td>\n",
       "      <td>False</td>\n",
       "      <td>False</td>\n",
       "      <td>False</td>\n",
       "    </tr>\n",
       "  </tbody>\n",
       "</table>\n",
       "<p>503 rows × 6 columns</p>\n",
       "</div>"
      ],
      "text/plain": [
       "     Symbol  Security  GICS_Sector     hq  included  Founded\n",
       "0     False     False        False  False     False    False\n",
       "1     False     False        False  False     False    False\n",
       "2     False     False        False  False     False    False\n",
       "3     False     False        False  False     False    False\n",
       "4     False     False        False  False     False    False\n",
       "..      ...       ...          ...    ...       ...      ...\n",
       "498   False     False        False  False     False    False\n",
       "499   False     False        False  False     False    False\n",
       "500   False     False        False  False     False    False\n",
       "501   False     False        False  False     False    False\n",
       "502   False     False        False  False     False    False\n",
       "\n",
       "[503 rows x 6 columns]"
      ]
     },
     "execution_count": 88,
     "metadata": {},
     "output_type": "execute_result"
    }
   ],
   "source": [
    "sap.isna()==1"
   ]
  },
  {
   "cell_type": "code",
   "execution_count": 89,
   "metadata": {},
   "outputs": [
    {
     "data": {
      "text/plain": [
       "45"
      ]
     },
     "execution_count": 89,
     "metadata": {},
     "output_type": "execute_result"
    }
   ],
   "source": [
    "(sap['included'].isna()).sum()#or cumprod() or maby not"
   ]
  },
  {
   "cell_type": "markdown",
   "metadata": {},
   "source": [
    "2.1. we found 45 companies without filling"
   ]
  },
  {
   "cell_type": "code",
   "execution_count": 91,
   "metadata": {},
   "outputs": [],
   "source": [
    "sap.dropna(subset=['included'], inplace=True)\n"
   ]
  },
  {
   "cell_type": "code",
   "execution_count": 92,
   "metadata": {},
   "outputs": [
    {
     "data": {
      "text/plain": [
       "0"
      ]
     },
     "execution_count": 92,
     "metadata": {},
     "output_type": "execute_result"
    }
   ],
   "source": [
    "(sap['included'].isna()).sum()#or cumprod() or maby not"
   ]
  },
  {
   "cell_type": "code",
   "execution_count": 95,
   "metadata": {},
   "outputs": [
    {
     "data": {
      "text/html": [
       "<div>\n",
       "<style scoped>\n",
       "    .dataframe tbody tr th:only-of-type {\n",
       "        vertical-align: middle;\n",
       "    }\n",
       "\n",
       "    .dataframe tbody tr th {\n",
       "        vertical-align: top;\n",
       "    }\n",
       "\n",
       "    .dataframe thead th {\n",
       "        text-align: right;\n",
       "    }\n",
       "</style>\n",
       "<table border=\"1\" class=\"dataframe\">\n",
       "  <thead>\n",
       "    <tr style=\"text-align: right;\">\n",
       "      <th></th>\n",
       "      <th>Symbol</th>\n",
       "      <th>Security</th>\n",
       "      <th>GICS_Sector</th>\n",
       "      <th>hq</th>\n",
       "      <th>included</th>\n",
       "      <th>Founded</th>\n",
       "    </tr>\n",
       "  </thead>\n",
       "  <tbody>\n",
       "    <tr>\n",
       "      <th>0</th>\n",
       "      <td>MMM</td>\n",
       "      <td>3M</td>\n",
       "      <td>Industrials</td>\n",
       "      <td>Saint Paul, Minnesota</td>\n",
       "      <td>09.08.1976</td>\n",
       "      <td>1902</td>\n",
       "    </tr>\n",
       "    <tr>\n",
       "      <th>1</th>\n",
       "      <td>AOS</td>\n",
       "      <td>A. O. Smith</td>\n",
       "      <td>Industrials</td>\n",
       "      <td>Milwaukee, Wisconsin</td>\n",
       "      <td>26.07.2017</td>\n",
       "      <td>1916</td>\n",
       "    </tr>\n",
       "    <tr>\n",
       "      <th>2</th>\n",
       "      <td>ABT</td>\n",
       "      <td>Abbott</td>\n",
       "      <td>Health Care</td>\n",
       "      <td>North Chicago, Illinois</td>\n",
       "      <td>31.03.1964</td>\n",
       "      <td>1888</td>\n",
       "    </tr>\n",
       "    <tr>\n",
       "      <th>3</th>\n",
       "      <td>ABBV</td>\n",
       "      <td>AbbVie</td>\n",
       "      <td>Health Care</td>\n",
       "      <td>North Chicago, Illinois</td>\n",
       "      <td>31.12.2012</td>\n",
       "      <td>2013 (1888)</td>\n",
       "    </tr>\n",
       "    <tr>\n",
       "      <th>4</th>\n",
       "      <td>ABMD</td>\n",
       "      <td>Abiomed</td>\n",
       "      <td>Health Care</td>\n",
       "      <td>Danvers, Massachusetts</td>\n",
       "      <td>31.05.2018</td>\n",
       "      <td>1981</td>\n",
       "    </tr>\n",
       "  </tbody>\n",
       "</table>\n",
       "</div>"
      ],
      "text/plain": [
       "  Symbol     Security  GICS_Sector                       hq    included  \\\n",
       "0    MMM           3M  Industrials    Saint Paul, Minnesota  09.08.1976   \n",
       "1    AOS  A. O. Smith  Industrials     Milwaukee, Wisconsin  26.07.2017   \n",
       "2    ABT       Abbott  Health Care  North Chicago, Illinois  31.03.1964   \n",
       "3   ABBV       AbbVie  Health Care  North Chicago, Illinois  31.12.2012   \n",
       "4   ABMD      Abiomed  Health Care   Danvers, Massachusetts  31.05.2018   \n",
       "\n",
       "       Founded  \n",
       "0         1902  \n",
       "1         1916  \n",
       "2         1888  \n",
       "3  2013 (1888)  \n",
       "4         1981  "
      ]
     },
     "execution_count": 95,
     "metadata": {},
     "output_type": "execute_result"
    }
   ],
   "source": [
    "sap.head()"
   ]
  },
  {
   "cell_type": "code",
   "execution_count": 97,
   "metadata": {},
   "outputs": [
    {
     "data": {
      "text/html": [
       "<div>\n",
       "<style scoped>\n",
       "    .dataframe tbody tr th:only-of-type {\n",
       "        vertical-align: middle;\n",
       "    }\n",
       "\n",
       "    .dataframe tbody tr th {\n",
       "        vertical-align: top;\n",
       "    }\n",
       "\n",
       "    .dataframe thead th {\n",
       "        text-align: right;\n",
       "    }\n",
       "</style>\n",
       "<table border=\"1\" class=\"dataframe\">\n",
       "  <thead>\n",
       "    <tr style=\"text-align: right;\">\n",
       "      <th></th>\n",
       "      <th>Symbol</th>\n",
       "      <th>Security</th>\n",
       "      <th>GICS_Sector</th>\n",
       "      <th>hq</th>\n",
       "      <th>included</th>\n",
       "      <th>Founded</th>\n",
       "    </tr>\n",
       "  </thead>\n",
       "  <tbody>\n",
       "    <tr>\n",
       "      <th>count</th>\n",
       "      <td>458</td>\n",
       "      <td>458</td>\n",
       "      <td>458</td>\n",
       "      <td>458</td>\n",
       "      <td>458</td>\n",
       "      <td>458</td>\n",
       "    </tr>\n",
       "    <tr>\n",
       "      <th>unique</th>\n",
       "      <td>458</td>\n",
       "      <td>458</td>\n",
       "      <td>11</td>\n",
       "      <td>243</td>\n",
       "      <td>351</td>\n",
       "      <td>186</td>\n",
       "    </tr>\n",
       "    <tr>\n",
       "      <th>top</th>\n",
       "      <td>MMM</td>\n",
       "      <td>3M</td>\n",
       "      <td>Information Technology</td>\n",
       "      <td>New York City, New York</td>\n",
       "      <td>04.03.1957</td>\n",
       "      <td>1998</td>\n",
       "    </tr>\n",
       "    <tr>\n",
       "      <th>freq</th>\n",
       "      <td>1</td>\n",
       "      <td>1</td>\n",
       "      <td>68</td>\n",
       "      <td>34</td>\n",
       "      <td>37</td>\n",
       "      <td>10</td>\n",
       "    </tr>\n",
       "  </tbody>\n",
       "</table>\n",
       "</div>"
      ],
      "text/plain": [
       "       Symbol Security             GICS_Sector                       hq  \\\n",
       "count     458      458                     458                      458   \n",
       "unique    458      458                      11                      243   \n",
       "top       MMM       3M  Information Technology  New York City, New York   \n",
       "freq        1        1                      68                       34   \n",
       "\n",
       "          included Founded  \n",
       "count          458     458  \n",
       "unique         351     186  \n",
       "top     04.03.1957    1998  \n",
       "freq            37      10  "
      ]
     },
     "execution_count": 97,
     "metadata": {},
     "output_type": "execute_result"
    }
   ],
   "source": [
    "sap.describe()"
   ]
  },
  {
   "cell_type": "code",
   "execution_count": 99,
   "metadata": {},
   "outputs": [
    {
     "data": {
      "text/plain": [
       "count      458\n",
       "unique     186\n",
       "top       1998\n",
       "freq        10\n",
       "Name: Founded, dtype: object"
      ]
     },
     "execution_count": 99,
     "metadata": {},
     "output_type": "execute_result"
    }
   ],
   "source": [
    "sap['Founded'].describe()"
   ]
  },
  {
   "cell_type": "code",
   "execution_count": 102,
   "metadata": {},
   "outputs": [
    {
     "data": {
      "text/plain": [
       "'01.01.1994'"
      ]
     },
     "execution_count": 102,
     "metadata": {},
     "output_type": "execute_result"
    }
   ],
   "source": [
    "oldest = min(sap.included)\n",
    "oldest\n"
   ]
  },
  {
   "cell_type": "code",
   "execution_count": null,
   "metadata": {},
   "outputs": [],
   "source": [
    "youngest = max(sap.included)\n",
    "youngest "
   ]
  },
  {
   "cell_type": "markdown",
   "metadata": {},
   "source": [
    "2.2. we successfully deleted those firms/rows, here i tried to find the youngest and the oldest"
   ]
  },
  {
   "cell_type": "markdown",
   "metadata": {},
   "source": []
  }
 ],
 "metadata": {
  "kernelspec": {
   "display_name": "Python 3",
   "language": "python",
   "name": "python3"
  },
  "language_info": {
   "codemirror_mode": {
    "name": "ipython",
    "version": 3
   },
   "file_extension": ".py",
   "mimetype": "text/x-python",
   "name": "python",
   "nbconvert_exporter": "python",
   "pygments_lexer": "ipython3",
   "version": "3.12.0"
  },
  "orig_nbformat": 4
 },
 "nbformat": 4,
 "nbformat_minor": 2
}
